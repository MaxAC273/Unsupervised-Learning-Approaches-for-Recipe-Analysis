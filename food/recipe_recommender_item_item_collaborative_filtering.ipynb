{
 "cells": [
  {
   "cell_type": "code",
   "execution_count": 1,
   "id": "a725c034",
   "metadata": {
    "scrolled": true
   },
   "outputs": [
    {
     "data": {
      "text/html": [
       "<div>\n",
       "<style scoped>\n",
       "    .dataframe tbody tr th:only-of-type {\n",
       "        vertical-align: middle;\n",
       "    }\n",
       "\n",
       "    .dataframe tbody tr th {\n",
       "        vertical-align: top;\n",
       "    }\n",
       "\n",
       "    .dataframe thead th {\n",
       "        text-align: right;\n",
       "    }\n",
       "</style>\n",
       "<table border=\"1\" class=\"dataframe\">\n",
       "  <thead>\n",
       "    <tr style=\"text-align: right;\">\n",
       "      <th></th>\n",
       "      <th>Number of Rows</th>\n",
       "      <th>Number of Columns</th>\n",
       "      <th>Columns</th>\n",
       "    </tr>\n",
       "  </thead>\n",
       "  <tbody>\n",
       "    <tr>\n",
       "      <th>ingr_map</th>\n",
       "      <td>11659</td>\n",
       "      <td>7</td>\n",
       "      <td>raw_ingr, raw_words, processed, len_proc, repl...</td>\n",
       "    </tr>\n",
       "    <tr>\n",
       "      <th>raw_recipes</th>\n",
       "      <td>231637</td>\n",
       "      <td>12</td>\n",
       "      <td>name, id, minutes, contributor_id, submitted, ...</td>\n",
       "    </tr>\n",
       "    <tr>\n",
       "      <th>raw_interactions</th>\n",
       "      <td>1132367</td>\n",
       "      <td>5</td>\n",
       "      <td>user_id, recipe_id, date, rating, review</td>\n",
       "    </tr>\n",
       "    <tr>\n",
       "      <th>pp_users</th>\n",
       "      <td>25076</td>\n",
       "      <td>6</td>\n",
       "      <td>u, techniques, items, n_items, ratings, n_ratings</td>\n",
       "    </tr>\n",
       "    <tr>\n",
       "      <th>pp_recipes</th>\n",
       "      <td>178265</td>\n",
       "      <td>8</td>\n",
       "      <td>id, i, name_tokens, ingredient_tokens, steps_t...</td>\n",
       "    </tr>\n",
       "    <tr>\n",
       "      <th>interactions_validation</th>\n",
       "      <td>7023</td>\n",
       "      <td>6</td>\n",
       "      <td>user_id, recipe_id, date, rating, u, i</td>\n",
       "    </tr>\n",
       "    <tr>\n",
       "      <th>interactions_train</th>\n",
       "      <td>698901</td>\n",
       "      <td>6</td>\n",
       "      <td>user_id, recipe_id, date, rating, u, i</td>\n",
       "    </tr>\n",
       "    <tr>\n",
       "      <th>interactions_test</th>\n",
       "      <td>12455</td>\n",
       "      <td>6</td>\n",
       "      <td>user_id, recipe_id, date, rating, u, i</td>\n",
       "    </tr>\n",
       "  </tbody>\n",
       "</table>\n",
       "</div>"
      ],
      "text/plain": [
       "                        Number of Rows Number of Columns  \\\n",
       "ingr_map                         11659                 7   \n",
       "raw_recipes                     231637                12   \n",
       "raw_interactions               1132367                 5   \n",
       "pp_users                         25076                 6   \n",
       "pp_recipes                      178265                 8   \n",
       "interactions_validation           7023                 6   \n",
       "interactions_train              698901                 6   \n",
       "interactions_test                12455                 6   \n",
       "\n",
       "                                                                   Columns  \n",
       "ingr_map                 raw_ingr, raw_words, processed, len_proc, repl...  \n",
       "raw_recipes              name, id, minutes, contributor_id, submitted, ...  \n",
       "raw_interactions                  user_id, recipe_id, date, rating, review  \n",
       "pp_users                 u, techniques, items, n_items, ratings, n_ratings  \n",
       "pp_recipes               id, i, name_tokens, ingredient_tokens, steps_t...  \n",
       "interactions_validation             user_id, recipe_id, date, rating, u, i  \n",
       "interactions_train                  user_id, recipe_id, date, rating, u, i  \n",
       "interactions_test                   user_id, recipe_id, date, rating, u, i  "
      ]
     },
     "execution_count": 1,
     "metadata": {},
     "output_type": "execute_result"
    }
   ],
   "source": [
    "\n",
    "import pandas as pd\n",
    "import pickle\n",
    "\n",
    "# Load the datasets\n",
    "ingr_map = pd.read_pickle(\"ingr_map.pkl\")\n",
    "raw_recipes = pd.read_csv(\"RAW_recipes.csv\")\n",
    "raw_interactions = pd.read_csv(\"RAW_interactions.csv\")\n",
    "pp_users = pd.read_csv(\"PP_users.csv\")\n",
    "pp_recipes = pd.read_csv(\"PP_recipes.csv\")\n",
    "interactions_validation = pd.read_csv(\"interactions_validation.csv\")\n",
    "interactions_train = pd.read_csv(\"interactions_train.csv\")\n",
    "interactions_test = pd.read_csv(\"interactions_test.csv\")\n",
    "\n",
    "\n",
    "# Show some basic information about each dataset\n",
    "datasets = {\n",
    "    'ingr_map': ingr_map,\n",
    "    'raw_recipes': raw_recipes,\n",
    "    'raw_interactions': raw_interactions,\n",
    "    'pp_users': pp_users,\n",
    "    'pp_recipes': pp_recipes,\n",
    "    'interactions_validation': interactions_validation,\n",
    "    'interactions_train': interactions_train,\n",
    "    'interactions_test': interactions_test\n",
    "}\n",
    "\n",
    "info_dict = {}\n",
    "\n",
    "for name, dataset in datasets.items():\n",
    "    info_dict[name] = {\n",
    "        'Number of Rows': dataset.shape[0],\n",
    "        'Number of Columns': dataset.shape[1],\n",
    "        'Columns': ', '.join(dataset.columns)\n",
    "    }\n",
    "\n",
    "info_df = pd.DataFrame(info_dict).T\n",
    "info_df\n"
   ]
  },
  {
   "cell_type": "code",
   "execution_count": 2,
   "id": "4ae698e4",
   "metadata": {},
   "outputs": [],
   "source": [
    "raw_recipes_df = pd.read_csv('RAW_recipes.csv')\n",
    "raw_interactions_df = pd.read_csv(\"RAW_interactions.csv\")"
   ]
  },
  {
   "cell_type": "code",
   "execution_count": null,
   "id": "4d5bce28",
   "metadata": {},
   "outputs": [
    {
     "name": "stderr",
     "output_type": "stream",
     "text": [
      "/var/folders/bg/hdj9jw_j33g1vg7x_rmvr9lc0000gn/T/ipykernel_88615/1033899769.py:5: PerformanceWarning: The following operation may generate 52481995090 cells in the resulting pandas object.\n",
      "  interaction_matrix = merged_data.pivot_table(index='user_id', columns='recipe_id', values='rating')\n"
     ]
    }
   ],
   "source": [
    "# Merging the datasets on recipe ID\n",
    "merged_data = pd.merge(raw_interactions_df, raw_recipes_df, left_on='recipe_id', right_on='id')\n",
    "\n",
    "# Creating the user-item interaction matrix\n",
    "interaction_matrix = merged_data.pivot_table(index='user_id', columns='recipe_id', values='rating')\n",
    "\n",
    "interaction_matrix.head()"
   ]
  },
  {
   "cell_type": "code",
   "execution_count": 1,
   "id": "d5b6bae8",
   "metadata": {},
   "outputs": [
    {
     "name": "stdout",
     "output_type": "stream",
     "text": [
      "Collecting scikit-surprise\n",
      "  Downloading scikit-surprise-1.1.3.tar.gz (771 kB)\n",
      "\u001b[2K     \u001b[90m━━━━━━━━━━━━━━━━━━━━━━━━━━━━━━━━━━━━━━━\u001b[0m \u001b[32m772.0/772.0 kB\u001b[0m \u001b[31m4.5 MB/s\u001b[0m eta \u001b[36m0:00:00\u001b[0m00:01\u001b[0m00:01\u001b[0m\n",
      "\u001b[?25h  Preparing metadata (setup.py) ... \u001b[?25ldone\n",
      "\u001b[?25hRequirement already satisfied: joblib>=1.0.0 in /Users/alancheung/opt/anaconda3/lib/python3.9/site-packages (from scikit-surprise) (1.2.0)\n",
      "Requirement already satisfied: numpy>=1.17.3 in /Users/alancheung/opt/anaconda3/lib/python3.9/site-packages (from scikit-surprise) (1.22.4)\n",
      "Requirement already satisfied: scipy>=1.3.2 in /Users/alancheung/opt/anaconda3/lib/python3.9/site-packages (from scikit-surprise) (1.7.1)\n",
      "Building wheels for collected packages: scikit-surprise\n",
      "  Building wheel for scikit-surprise (setup.py) ... \u001b[?25ldone\n",
      "\u001b[?25h  Created wheel for scikit-surprise: filename=scikit_surprise-1.1.3-cp39-cp39-macosx_10_9_x86_64.whl size=1288206 sha256=629e5f0a9e3f3b5c39a311ba79211bd73b8b280bc3948be0e7012fb623469f31\n",
      "  Stored in directory: /Users/alancheung/Library/Caches/pip/wheels/c6/3a/46/9b17b3512bdf283c6cb84f59929cdd5199d4e754d596d22784\n",
      "Successfully built scikit-surprise\n",
      "Installing collected packages: scikit-surprise\n",
      "Successfully installed scikit-surprise-1.1.3\n",
      "Note: you may need to restart the kernel to use updated packages.\n"
     ]
    }
   ],
   "source": []
  },
  {
   "cell_type": "code",
   "execution_count": null,
   "id": "e0e450db",
   "metadata": {},
   "outputs": [],
   "source": []
  }
 ],
 "metadata": {
  "kernelspec": {
   "display_name": "Python 3 (ipykernel)",
   "language": "python",
   "name": "python3"
  },
  "language_info": {
   "codemirror_mode": {
    "name": "ipython",
    "version": 3
   },
   "file_extension": ".py",
   "mimetype": "text/x-python",
   "name": "python",
   "nbconvert_exporter": "python",
   "pygments_lexer": "ipython3",
   "version": "3.9.7"
  }
 },
 "nbformat": 4,
 "nbformat_minor": 5
}
